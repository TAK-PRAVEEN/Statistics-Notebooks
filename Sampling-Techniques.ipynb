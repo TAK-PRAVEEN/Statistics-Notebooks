{
 "cells": [
  {
   "cell_type": "markdown",
   "id": "30585f38-0279-4994-9a1b-b176135b94ba",
   "metadata": {},
   "source": [
    "# SAMPLING TECHNIQUES"
   ]
  },
  {
   "cell_type": "markdown",
   "id": "2831120c-52ae-4c76-8530-988ba1c62897",
   "metadata": {},
   "source": [
    "## Libraries"
   ]
  },
  {
   "cell_type": "code",
   "execution_count": 68,
   "id": "c396148d-de0d-4bc2-a5ef-dad9476a24e4",
   "metadata": {},
   "outputs": [],
   "source": [
    "import numpy as np\n",
    "import pandas as pd\n",
    "\n",
    "from sklearn.model_selection import train_test_split"
   ]
  },
  {
   "cell_type": "markdown",
   "id": "70f18c00-99d6-482c-bd36-d02aa14237a4",
   "metadata": {},
   "source": [
    "## Dataset"
   ]
  },
  {
   "cell_type": "code",
   "execution_count": 47,
   "id": "a33c0ddd-37ef-4f4a-a044-8d60218d2550",
   "metadata": {},
   "outputs": [
    {
     "data": {
      "text/plain": [
       "array([ 8, 89, 48, 36, 56, 61,  3, 70, 75, 27, 47, 55, 25,  0, 35, 59, 41,\n",
       "       13, 22, 49, 78, 41, 19, 14, 75, 88, 62, 37, 67, 94])"
      ]
     },
     "execution_count": 47,
     "metadata": {},
     "output_type": "execute_result"
    }
   ],
   "source": [
    "population_salary = np.random.randint(100, size = 30)\n",
    "population_salary"
   ]
  },
  {
   "cell_type": "code",
   "execution_count": 49,
   "id": "961121aa-177b-43be-b828-8819a2bd70fc",
   "metadata": {},
   "outputs": [
    {
     "data": {
      "text/plain": [
       "30"
      ]
     },
     "execution_count": 49,
     "metadata": {},
     "output_type": "execute_result"
    }
   ],
   "source": [
    "population_gender = [\"M\", \"F\", \"M\", \"M\", \"F\", \"M\", \"M\", \"M\", \"M\", \"F\", \"M\", \"F\", \"M\", \"F\", \"F\", \"F\", \"M\", \"F\", \"M\", \"M\", \"F\", \"M\", \"M\", \"M\", \"M\", \"F\", \"M\", \"F\", \"F\", \"F\"]\n",
    "len(population_gender)"
   ]
  },
  {
   "cell_type": "code",
   "execution_count": 55,
   "id": "ebf6799e-0d10-4338-92c7-f1bab063e5ac",
   "metadata": {},
   "outputs": [
    {
     "data": {
      "text/plain": [
       "array([6, 8, 8, 9, 1, 0, 9, 1, 0, 3, 9, 0, 9, 9, 9, 0, 1, 9, 8, 0, 4, 9,\n",
       "       0, 7, 9, 4, 4, 3, 8, 6])"
      ]
     },
     "execution_count": 55,
     "metadata": {},
     "output_type": "execute_result"
    }
   ],
   "source": [
    "population_annual_spend = np.random.randint(10, size = 30)\n",
    "population_annual_spend"
   ]
  },
  {
   "cell_type": "code",
   "execution_count": 61,
   "id": "cb321cb4-0cfb-4983-8793-4b10a8dcc0e9",
   "metadata": {},
   "outputs": [
    {
     "data": {
      "text/plain": [
       "30"
      ]
     },
     "execution_count": 61,
     "metadata": {},
     "output_type": "execute_result"
    }
   ],
   "source": [
    "population_location = [\"Mumbai\", \"Hyderabad\", \"Mumbai\", \"Delhi\", \"Chennai\", \"Chennai\", \"Delhi\", \"Noida\", \"Mumbai\", \"Hyderabad\", \"Mumbai\", \"Delhi\", \"Chennai\", \"Chennai\", \"Delhi\", \"Noida\", \"Mumbai\", \"Hyderabad\", \"Mumbai\", \"Delhi\", \"Chennai\", \"Chennai\", \"Delhi\", \"Noida\", \"Mumbai\", \"Hyderabad\", \"Chennai\", \"Chennai\", \"Delhi\", \"Noida\"]\n",
    "len(population_location)"
   ]
  },
  {
   "cell_type": "code",
   "execution_count": 63,
   "id": "a4fb3d35-81d6-486c-95b9-31aaa19f9d34",
   "metadata": {},
   "outputs": [
    {
     "data": {
      "text/html": [
       "<div>\n",
       "<style scoped>\n",
       "    .dataframe tbody tr th:only-of-type {\n",
       "        vertical-align: middle;\n",
       "    }\n",
       "\n",
       "    .dataframe tbody tr th {\n",
       "        vertical-align: top;\n",
       "    }\n",
       "\n",
       "    .dataframe thead th {\n",
       "        text-align: right;\n",
       "    }\n",
       "</style>\n",
       "<table border=\"1\" class=\"dataframe\">\n",
       "  <thead>\n",
       "    <tr style=\"text-align: right;\">\n",
       "      <th></th>\n",
       "      <th>Salary</th>\n",
       "      <th>Gender</th>\n",
       "      <th>Annual Spend</th>\n",
       "      <th>Location</th>\n",
       "    </tr>\n",
       "  </thead>\n",
       "  <tbody>\n",
       "    <tr>\n",
       "      <th>0</th>\n",
       "      <td>8</td>\n",
       "      <td>M</td>\n",
       "      <td>6</td>\n",
       "      <td>Mumbai</td>\n",
       "    </tr>\n",
       "    <tr>\n",
       "      <th>1</th>\n",
       "      <td>89</td>\n",
       "      <td>F</td>\n",
       "      <td>8</td>\n",
       "      <td>Hyderabad</td>\n",
       "    </tr>\n",
       "    <tr>\n",
       "      <th>2</th>\n",
       "      <td>48</td>\n",
       "      <td>M</td>\n",
       "      <td>8</td>\n",
       "      <td>Mumbai</td>\n",
       "    </tr>\n",
       "    <tr>\n",
       "      <th>3</th>\n",
       "      <td>36</td>\n",
       "      <td>M</td>\n",
       "      <td>9</td>\n",
       "      <td>Delhi</td>\n",
       "    </tr>\n",
       "    <tr>\n",
       "      <th>4</th>\n",
       "      <td>56</td>\n",
       "      <td>F</td>\n",
       "      <td>1</td>\n",
       "      <td>Chennai</td>\n",
       "    </tr>\n",
       "  </tbody>\n",
       "</table>\n",
       "</div>"
      ],
      "text/plain": [
       "   Salary Gender  Annual Spend   Location\n",
       "0       8      M             6     Mumbai\n",
       "1      89      F             8  Hyderabad\n",
       "2      48      M             8     Mumbai\n",
       "3      36      M             9      Delhi\n",
       "4      56      F             1    Chennai"
      ]
     },
     "execution_count": 63,
     "metadata": {},
     "output_type": "execute_result"
    }
   ],
   "source": [
    "df_population = pd.DataFrame({\"Salary\": population_salary, \"Gender\": population_gender, \"Annual Spend\": population_annual_spend, \"Location\": population_location})\n",
    "df_population.head()"
   ]
  },
  {
   "cell_type": "markdown",
   "id": "cb299510-1e43-4c11-9100-354adf5b831c",
   "metadata": {},
   "source": [
    "## 1. Simple Random Sampling"
   ]
  },
  {
   "cell_type": "code",
   "execution_count": 65,
   "id": "de6291ed-d914-4f10-8f4d-aa4f5f4eae88",
   "metadata": {},
   "outputs": [
    {
     "data": {
      "text/html": [
       "<div>\n",
       "<style scoped>\n",
       "    .dataframe tbody tr th:only-of-type {\n",
       "        vertical-align: middle;\n",
       "    }\n",
       "\n",
       "    .dataframe tbody tr th {\n",
       "        vertical-align: top;\n",
       "    }\n",
       "\n",
       "    .dataframe thead th {\n",
       "        text-align: right;\n",
       "    }\n",
       "</style>\n",
       "<table border=\"1\" class=\"dataframe\">\n",
       "  <thead>\n",
       "    <tr style=\"text-align: right;\">\n",
       "      <th></th>\n",
       "      <th>Salary</th>\n",
       "      <th>Gender</th>\n",
       "      <th>Annual Spend</th>\n",
       "      <th>Location</th>\n",
       "    </tr>\n",
       "  </thead>\n",
       "  <tbody>\n",
       "    <tr>\n",
       "      <th>0</th>\n",
       "      <td>8</td>\n",
       "      <td>M</td>\n",
       "      <td>6</td>\n",
       "      <td>Mumbai</td>\n",
       "    </tr>\n",
       "    <tr>\n",
       "      <th>10</th>\n",
       "      <td>47</td>\n",
       "      <td>M</td>\n",
       "      <td>9</td>\n",
       "      <td>Mumbai</td>\n",
       "    </tr>\n",
       "    <tr>\n",
       "      <th>3</th>\n",
       "      <td>36</td>\n",
       "      <td>M</td>\n",
       "      <td>9</td>\n",
       "      <td>Delhi</td>\n",
       "    </tr>\n",
       "    <tr>\n",
       "      <th>17</th>\n",
       "      <td>13</td>\n",
       "      <td>F</td>\n",
       "      <td>9</td>\n",
       "      <td>Hyderabad</td>\n",
       "    </tr>\n",
       "    <tr>\n",
       "      <th>27</th>\n",
       "      <td>37</td>\n",
       "      <td>F</td>\n",
       "      <td>3</td>\n",
       "      <td>Chennai</td>\n",
       "    </tr>\n",
       "    <tr>\n",
       "      <th>23</th>\n",
       "      <td>14</td>\n",
       "      <td>M</td>\n",
       "      <td>7</td>\n",
       "      <td>Noida</td>\n",
       "    </tr>\n",
       "    <tr>\n",
       "      <th>29</th>\n",
       "      <td>94</td>\n",
       "      <td>F</td>\n",
       "      <td>6</td>\n",
       "      <td>Noida</td>\n",
       "    </tr>\n",
       "    <tr>\n",
       "      <th>16</th>\n",
       "      <td>41</td>\n",
       "      <td>M</td>\n",
       "      <td>1</td>\n",
       "      <td>Mumbai</td>\n",
       "    </tr>\n",
       "    <tr>\n",
       "      <th>11</th>\n",
       "      <td>55</td>\n",
       "      <td>F</td>\n",
       "      <td>0</td>\n",
       "      <td>Delhi</td>\n",
       "    </tr>\n",
       "    <tr>\n",
       "      <th>4</th>\n",
       "      <td>56</td>\n",
       "      <td>F</td>\n",
       "      <td>1</td>\n",
       "      <td>Chennai</td>\n",
       "    </tr>\n",
       "  </tbody>\n",
       "</table>\n",
       "</div>"
      ],
      "text/plain": [
       "    Salary Gender  Annual Spend   Location\n",
       "0        8      M             6     Mumbai\n",
       "10      47      M             9     Mumbai\n",
       "3       36      M             9      Delhi\n",
       "17      13      F             9  Hyderabad\n",
       "27      37      F             3    Chennai\n",
       "23      14      M             7      Noida\n",
       "29      94      F             6      Noida\n",
       "16      41      M             1     Mumbai\n",
       "11      55      F             0      Delhi\n",
       "4       56      F             1    Chennai"
      ]
     },
     "execution_count": 65,
     "metadata": {},
     "output_type": "execute_result"
    }
   ],
   "source": [
    "sampled_data = df_population.sample(10)\n",
    "sampled_data"
   ]
  },
  {
   "cell_type": "markdown",
   "id": "cabde6f3-c350-4fcb-a581-072e2ba8898c",
   "metadata": {},
   "source": [
    "## 2. Stratified Sampling\n",
    "- **Based on gender**"
   ]
  },
  {
   "cell_type": "code",
   "execution_count": 76,
   "id": "9536a4ee-d717-4455-a29f-8dedeaf817e5",
   "metadata": {},
   "outputs": [
    {
     "data": {
      "text/html": [
       "<div>\n",
       "<style scoped>\n",
       "    .dataframe tbody tr th:only-of-type {\n",
       "        vertical-align: middle;\n",
       "    }\n",
       "\n",
       "    .dataframe tbody tr th {\n",
       "        vertical-align: top;\n",
       "    }\n",
       "\n",
       "    .dataframe thead th {\n",
       "        text-align: right;\n",
       "    }\n",
       "</style>\n",
       "<table border=\"1\" class=\"dataframe\">\n",
       "  <thead>\n",
       "    <tr style=\"text-align: right;\">\n",
       "      <th></th>\n",
       "      <th>Salary</th>\n",
       "      <th>Gender</th>\n",
       "      <th>Annual Spend</th>\n",
       "      <th>Location</th>\n",
       "    </tr>\n",
       "  </thead>\n",
       "  <tbody>\n",
       "    <tr>\n",
       "      <th>26</th>\n",
       "      <td>62</td>\n",
       "      <td>M</td>\n",
       "      <td>4</td>\n",
       "      <td>Chennai</td>\n",
       "    </tr>\n",
       "    <tr>\n",
       "      <th>5</th>\n",
       "      <td>61</td>\n",
       "      <td>M</td>\n",
       "      <td>0</td>\n",
       "      <td>Chennai</td>\n",
       "    </tr>\n",
       "    <tr>\n",
       "      <th>11</th>\n",
       "      <td>55</td>\n",
       "      <td>F</td>\n",
       "      <td>0</td>\n",
       "      <td>Delhi</td>\n",
       "    </tr>\n",
       "  </tbody>\n",
       "</table>\n",
       "</div>"
      ],
      "text/plain": [
       "    Salary Gender  Annual Spend Location\n",
       "26      62      M             4  Chennai\n",
       "5       61      M             0  Chennai\n",
       "11      55      F             0    Delhi"
      ]
     },
     "execution_count": 76,
     "metadata": {},
     "output_type": "execute_result"
    }
   ],
   "source": [
    "stratified_sample, _ = train_test_split(df_population, train_size = 0.1, stratify = df_population[\"Gender\"])\n",
    "stratified_sample"
   ]
  },
  {
   "cell_type": "code",
   "execution_count": 81,
   "id": "fd481441-f566-425f-85cd-b8385a21ca29",
   "metadata": {},
   "outputs": [
    {
     "data": {
      "text/plain": [
       "Gender\n",
       "M    2\n",
       "F    1\n",
       "Name: count, dtype: int64"
      ]
     },
     "execution_count": 81,
     "metadata": {},
     "output_type": "execute_result"
    }
   ],
   "source": [
    "stratified_sample[\"Gender\"].value_counts()"
   ]
  },
  {
   "cell_type": "markdown",
   "id": "ef9f0d1c-5f0f-471d-8885-3c4fdc27c61c",
   "metadata": {},
   "source": [
    "## 3. Systematic Sampling\n",
    "- **Every 5th data**"
   ]
  },
  {
   "cell_type": "code",
   "execution_count": 90,
   "id": "e5f93231-327c-467d-a84f-3b05cd4e871c",
   "metadata": {},
   "outputs": [
    {
     "name": "stdout",
     "output_type": "stream",
     "text": [
      "0\n"
     ]
    }
   ],
   "source": [
    "k = 5\n",
    "start = np.random.randint(0, k) \n",
    "print(start) # For start of systematic sampling"
   ]
  },
  {
   "cell_type": "code",
   "execution_count": 92,
   "id": "ad20a852-2359-4085-96e7-63c46da5891f",
   "metadata": {},
   "outputs": [
    {
     "data": {
      "text/html": [
       "<div>\n",
       "<style scoped>\n",
       "    .dataframe tbody tr th:only-of-type {\n",
       "        vertical-align: middle;\n",
       "    }\n",
       "\n",
       "    .dataframe tbody tr th {\n",
       "        vertical-align: top;\n",
       "    }\n",
       "\n",
       "    .dataframe thead th {\n",
       "        text-align: right;\n",
       "    }\n",
       "</style>\n",
       "<table border=\"1\" class=\"dataframe\">\n",
       "  <thead>\n",
       "    <tr style=\"text-align: right;\">\n",
       "      <th></th>\n",
       "      <th>Salary</th>\n",
       "      <th>Gender</th>\n",
       "      <th>Annual Spend</th>\n",
       "      <th>Location</th>\n",
       "    </tr>\n",
       "  </thead>\n",
       "  <tbody>\n",
       "    <tr>\n",
       "      <th>0</th>\n",
       "      <td>8</td>\n",
       "      <td>M</td>\n",
       "      <td>6</td>\n",
       "      <td>Mumbai</td>\n",
       "    </tr>\n",
       "    <tr>\n",
       "      <th>5</th>\n",
       "      <td>61</td>\n",
       "      <td>M</td>\n",
       "      <td>0</td>\n",
       "      <td>Chennai</td>\n",
       "    </tr>\n",
       "    <tr>\n",
       "      <th>10</th>\n",
       "      <td>47</td>\n",
       "      <td>M</td>\n",
       "      <td>9</td>\n",
       "      <td>Mumbai</td>\n",
       "    </tr>\n",
       "    <tr>\n",
       "      <th>15</th>\n",
       "      <td>59</td>\n",
       "      <td>F</td>\n",
       "      <td>0</td>\n",
       "      <td>Noida</td>\n",
       "    </tr>\n",
       "    <tr>\n",
       "      <th>20</th>\n",
       "      <td>78</td>\n",
       "      <td>F</td>\n",
       "      <td>4</td>\n",
       "      <td>Chennai</td>\n",
       "    </tr>\n",
       "    <tr>\n",
       "      <th>25</th>\n",
       "      <td>88</td>\n",
       "      <td>F</td>\n",
       "      <td>4</td>\n",
       "      <td>Hyderabad</td>\n",
       "    </tr>\n",
       "  </tbody>\n",
       "</table>\n",
       "</div>"
      ],
      "text/plain": [
       "    Salary Gender  Annual Spend   Location\n",
       "0        8      M             6     Mumbai\n",
       "5       61      M             0    Chennai\n",
       "10      47      M             9     Mumbai\n",
       "15      59      F             0      Noida\n",
       "20      78      F             4    Chennai\n",
       "25      88      F             4  Hyderabad"
      ]
     },
     "execution_count": 92,
     "metadata": {},
     "output_type": "execute_result"
    }
   ],
   "source": [
    "systematic_sample = df_population.iloc[start : : k]\n",
    "systematic_sample"
   ]
  },
  {
   "cell_type": "markdown",
   "id": "58efbec8-ca56-45a7-bb0e-30d138b5a7d9",
   "metadata": {},
   "source": [
    "## 4. Clustering Sampling\n",
    "- **Based on location**"
   ]
  },
  {
   "cell_type": "code",
   "execution_count": 106,
   "id": "5c625dbb-257d-42e6-9d45-79d76cc0fbe8",
   "metadata": {},
   "outputs": [
    {
     "data": {
      "text/html": [
       "<div>\n",
       "<style scoped>\n",
       "    .dataframe tbody tr th:only-of-type {\n",
       "        vertical-align: middle;\n",
       "    }\n",
       "\n",
       "    .dataframe tbody tr th {\n",
       "        vertical-align: top;\n",
       "    }\n",
       "\n",
       "    .dataframe thead th {\n",
       "        text-align: right;\n",
       "    }\n",
       "</style>\n",
       "<table border=\"1\" class=\"dataframe\">\n",
       "  <thead>\n",
       "    <tr style=\"text-align: right;\">\n",
       "      <th></th>\n",
       "      <th>Salary</th>\n",
       "      <th>Gender</th>\n",
       "      <th>Annual Spend</th>\n",
       "      <th>Location</th>\n",
       "    </tr>\n",
       "  </thead>\n",
       "  <tbody>\n",
       "    <tr>\n",
       "      <th>0</th>\n",
       "      <td>8</td>\n",
       "      <td>M</td>\n",
       "      <td>6</td>\n",
       "      <td>Mumbai</td>\n",
       "    </tr>\n",
       "    <tr>\n",
       "      <th>2</th>\n",
       "      <td>48</td>\n",
       "      <td>M</td>\n",
       "      <td>8</td>\n",
       "      <td>Mumbai</td>\n",
       "    </tr>\n",
       "    <tr>\n",
       "      <th>8</th>\n",
       "      <td>75</td>\n",
       "      <td>M</td>\n",
       "      <td>0</td>\n",
       "      <td>Mumbai</td>\n",
       "    </tr>\n",
       "    <tr>\n",
       "      <th>10</th>\n",
       "      <td>47</td>\n",
       "      <td>M</td>\n",
       "      <td>9</td>\n",
       "      <td>Mumbai</td>\n",
       "    </tr>\n",
       "    <tr>\n",
       "      <th>16</th>\n",
       "      <td>41</td>\n",
       "      <td>M</td>\n",
       "      <td>1</td>\n",
       "      <td>Mumbai</td>\n",
       "    </tr>\n",
       "    <tr>\n",
       "      <th>18</th>\n",
       "      <td>22</td>\n",
       "      <td>M</td>\n",
       "      <td>8</td>\n",
       "      <td>Mumbai</td>\n",
       "    </tr>\n",
       "    <tr>\n",
       "      <th>24</th>\n",
       "      <td>75</td>\n",
       "      <td>M</td>\n",
       "      <td>9</td>\n",
       "      <td>Mumbai</td>\n",
       "    </tr>\n",
       "  </tbody>\n",
       "</table>\n",
       "</div>"
      ],
      "text/plain": [
       "    Salary Gender  Annual Spend Location\n",
       "0        8      M             6   Mumbai\n",
       "2       48      M             8   Mumbai\n",
       "8       75      M             0   Mumbai\n",
       "10      47      M             9   Mumbai\n",
       "16      41      M             1   Mumbai\n",
       "18      22      M             8   Mumbai\n",
       "24      75      M             9   Mumbai"
      ]
     },
     "execution_count": 106,
     "metadata": {},
     "output_type": "execute_result"
    }
   ],
   "source": [
    "chosen_cluster = np.random.choice(df_population[\"Location\"].unique())\n",
    "clustered_sample = df_population[df_population[\"Location\"] == chosen_cluster]\n",
    "clustered_sample"
   ]
  },
  {
   "cell_type": "markdown",
   "id": "549c3605-5a5d-4676-977d-85f5c4c15d65",
   "metadata": {},
   "source": [
    "## 5. Convenience Sampling"
   ]
  },
  {
   "cell_type": "code",
   "execution_count": 109,
   "id": "7d5f4b16-3593-4428-84c6-3c8d7934f16f",
   "metadata": {},
   "outputs": [
    {
     "data": {
      "text/html": [
       "<div>\n",
       "<style scoped>\n",
       "    .dataframe tbody tr th:only-of-type {\n",
       "        vertical-align: middle;\n",
       "    }\n",
       "\n",
       "    .dataframe tbody tr th {\n",
       "        vertical-align: top;\n",
       "    }\n",
       "\n",
       "    .dataframe thead th {\n",
       "        text-align: right;\n",
       "    }\n",
       "</style>\n",
       "<table border=\"1\" class=\"dataframe\">\n",
       "  <thead>\n",
       "    <tr style=\"text-align: right;\">\n",
       "      <th></th>\n",
       "      <th>Salary</th>\n",
       "      <th>Gender</th>\n",
       "      <th>Annual Spend</th>\n",
       "      <th>Location</th>\n",
       "    </tr>\n",
       "  </thead>\n",
       "  <tbody>\n",
       "    <tr>\n",
       "      <th>0</th>\n",
       "      <td>8</td>\n",
       "      <td>M</td>\n",
       "      <td>6</td>\n",
       "      <td>Mumbai</td>\n",
       "    </tr>\n",
       "    <tr>\n",
       "      <th>1</th>\n",
       "      <td>89</td>\n",
       "      <td>F</td>\n",
       "      <td>8</td>\n",
       "      <td>Hyderabad</td>\n",
       "    </tr>\n",
       "    <tr>\n",
       "      <th>2</th>\n",
       "      <td>48</td>\n",
       "      <td>M</td>\n",
       "      <td>8</td>\n",
       "      <td>Mumbai</td>\n",
       "    </tr>\n",
       "    <tr>\n",
       "      <th>3</th>\n",
       "      <td>36</td>\n",
       "      <td>M</td>\n",
       "      <td>9</td>\n",
       "      <td>Delhi</td>\n",
       "    </tr>\n",
       "    <tr>\n",
       "      <th>4</th>\n",
       "      <td>56</td>\n",
       "      <td>F</td>\n",
       "      <td>1</td>\n",
       "      <td>Chennai</td>\n",
       "    </tr>\n",
       "    <tr>\n",
       "      <th>5</th>\n",
       "      <td>61</td>\n",
       "      <td>M</td>\n",
       "      <td>0</td>\n",
       "      <td>Chennai</td>\n",
       "    </tr>\n",
       "    <tr>\n",
       "      <th>6</th>\n",
       "      <td>3</td>\n",
       "      <td>M</td>\n",
       "      <td>9</td>\n",
       "      <td>Delhi</td>\n",
       "    </tr>\n",
       "    <tr>\n",
       "      <th>7</th>\n",
       "      <td>70</td>\n",
       "      <td>M</td>\n",
       "      <td>1</td>\n",
       "      <td>Noida</td>\n",
       "    </tr>\n",
       "    <tr>\n",
       "      <th>8</th>\n",
       "      <td>75</td>\n",
       "      <td>M</td>\n",
       "      <td>0</td>\n",
       "      <td>Mumbai</td>\n",
       "    </tr>\n",
       "    <tr>\n",
       "      <th>9</th>\n",
       "      <td>27</td>\n",
       "      <td>F</td>\n",
       "      <td>3</td>\n",
       "      <td>Hyderabad</td>\n",
       "    </tr>\n",
       "  </tbody>\n",
       "</table>\n",
       "</div>"
      ],
      "text/plain": [
       "   Salary Gender  Annual Spend   Location\n",
       "0       8      M             6     Mumbai\n",
       "1      89      F             8  Hyderabad\n",
       "2      48      M             8     Mumbai\n",
       "3      36      M             9      Delhi\n",
       "4      56      F             1    Chennai\n",
       "5      61      M             0    Chennai\n",
       "6       3      M             9      Delhi\n",
       "7      70      M             1      Noida\n",
       "8      75      M             0     Mumbai\n",
       "9      27      F             3  Hyderabad"
      ]
     },
     "execution_count": 109,
     "metadata": {},
     "output_type": "execute_result"
    }
   ],
   "source": [
    "df_population.head(10)"
   ]
  },
  {
   "cell_type": "markdown",
   "id": "1ac11927-fb5e-4d3f-b9e4-89e4ee8df48d",
   "metadata": {},
   "source": [
    "## 5. Judgemental Sampling\n",
    "- **Select data with annual spend more than 8 lakhs**"
   ]
  },
  {
   "cell_type": "code",
   "execution_count": 138,
   "id": "8ae8da9d-5131-460b-96fa-29e03b78c82f",
   "metadata": {},
   "outputs": [
    {
     "data": {
      "text/html": [
       "<div>\n",
       "<style scoped>\n",
       "    .dataframe tbody tr th:only-of-type {\n",
       "        vertical-align: middle;\n",
       "    }\n",
       "\n",
       "    .dataframe tbody tr th {\n",
       "        vertical-align: top;\n",
       "    }\n",
       "\n",
       "    .dataframe thead th {\n",
       "        text-align: right;\n",
       "    }\n",
       "</style>\n",
       "<table border=\"1\" class=\"dataframe\">\n",
       "  <thead>\n",
       "    <tr style=\"text-align: right;\">\n",
       "      <th></th>\n",
       "      <th>Salary</th>\n",
       "      <th>Gender</th>\n",
       "      <th>Annual Spend</th>\n",
       "      <th>Location</th>\n",
       "    </tr>\n",
       "  </thead>\n",
       "  <tbody>\n",
       "    <tr>\n",
       "      <th>3</th>\n",
       "      <td>36</td>\n",
       "      <td>M</td>\n",
       "      <td>9</td>\n",
       "      <td>Delhi</td>\n",
       "    </tr>\n",
       "    <tr>\n",
       "      <th>6</th>\n",
       "      <td>3</td>\n",
       "      <td>M</td>\n",
       "      <td>9</td>\n",
       "      <td>Delhi</td>\n",
       "    </tr>\n",
       "    <tr>\n",
       "      <th>10</th>\n",
       "      <td>47</td>\n",
       "      <td>M</td>\n",
       "      <td>9</td>\n",
       "      <td>Mumbai</td>\n",
       "    </tr>\n",
       "    <tr>\n",
       "      <th>12</th>\n",
       "      <td>25</td>\n",
       "      <td>M</td>\n",
       "      <td>9</td>\n",
       "      <td>Chennai</td>\n",
       "    </tr>\n",
       "    <tr>\n",
       "      <th>13</th>\n",
       "      <td>0</td>\n",
       "      <td>F</td>\n",
       "      <td>9</td>\n",
       "      <td>Chennai</td>\n",
       "    </tr>\n",
       "    <tr>\n",
       "      <th>14</th>\n",
       "      <td>35</td>\n",
       "      <td>F</td>\n",
       "      <td>9</td>\n",
       "      <td>Delhi</td>\n",
       "    </tr>\n",
       "    <tr>\n",
       "      <th>17</th>\n",
       "      <td>13</td>\n",
       "      <td>F</td>\n",
       "      <td>9</td>\n",
       "      <td>Hyderabad</td>\n",
       "    </tr>\n",
       "    <tr>\n",
       "      <th>21</th>\n",
       "      <td>41</td>\n",
       "      <td>M</td>\n",
       "      <td>9</td>\n",
       "      <td>Chennai</td>\n",
       "    </tr>\n",
       "    <tr>\n",
       "      <th>24</th>\n",
       "      <td>75</td>\n",
       "      <td>M</td>\n",
       "      <td>9</td>\n",
       "      <td>Mumbai</td>\n",
       "    </tr>\n",
       "  </tbody>\n",
       "</table>\n",
       "</div>"
      ],
      "text/plain": [
       "    Salary Gender  Annual Spend   Location\n",
       "3       36      M             9      Delhi\n",
       "6        3      M             9      Delhi\n",
       "10      47      M             9     Mumbai\n",
       "12      25      M             9    Chennai\n",
       "13       0      F             9    Chennai\n",
       "14      35      F             9      Delhi\n",
       "17      13      F             9  Hyderabad\n",
       "21      41      M             9    Chennai\n",
       "24      75      M             9     Mumbai"
      ]
     },
     "execution_count": 138,
     "metadata": {},
     "output_type": "execute_result"
    }
   ],
   "source": [
    "judged_sample = df_population[df_population[\"Annual Spend\"] > 8]\n",
    "judged_sample"
   ]
  },
  {
   "cell_type": "markdown",
   "id": "917b8690-7e37-46fd-8297-4c064b0116e9",
   "metadata": {},
   "source": [
    "## 6. Snowball Sampling\n",
    "- **Should be done manually**"
   ]
  },
  {
   "cell_type": "markdown",
   "id": "9cc73f95-df66-4407-a205-f9d7a770f8b3",
   "metadata": {},
   "source": [
    "## 7. Quota Sampling\n",
    "- **Picking data of 5 male and 5 females having salary less than 50 lakhs**"
   ]
  },
  {
   "cell_type": "code",
   "execution_count": 128,
   "id": "f63ffccb-44a0-46dd-8133-13ef52a72fd2",
   "metadata": {},
   "outputs": [
    {
     "data": {
      "text/html": [
       "<div>\n",
       "<style scoped>\n",
       "    .dataframe tbody tr th:only-of-type {\n",
       "        vertical-align: middle;\n",
       "    }\n",
       "\n",
       "    .dataframe tbody tr th {\n",
       "        vertical-align: top;\n",
       "    }\n",
       "\n",
       "    .dataframe thead th {\n",
       "        text-align: right;\n",
       "    }\n",
       "</style>\n",
       "<table border=\"1\" class=\"dataframe\">\n",
       "  <thead>\n",
       "    <tr style=\"text-align: right;\">\n",
       "      <th></th>\n",
       "      <th>Salary</th>\n",
       "      <th>Gender</th>\n",
       "      <th>Annual Spend</th>\n",
       "      <th>Location</th>\n",
       "    </tr>\n",
       "  </thead>\n",
       "  <tbody>\n",
       "    <tr>\n",
       "      <th>0</th>\n",
       "      <td>8</td>\n",
       "      <td>M</td>\n",
       "      <td>6</td>\n",
       "      <td>Mumbai</td>\n",
       "    </tr>\n",
       "    <tr>\n",
       "      <th>2</th>\n",
       "      <td>48</td>\n",
       "      <td>M</td>\n",
       "      <td>8</td>\n",
       "      <td>Mumbai</td>\n",
       "    </tr>\n",
       "    <tr>\n",
       "      <th>3</th>\n",
       "      <td>36</td>\n",
       "      <td>M</td>\n",
       "      <td>9</td>\n",
       "      <td>Delhi</td>\n",
       "    </tr>\n",
       "    <tr>\n",
       "      <th>6</th>\n",
       "      <td>3</td>\n",
       "      <td>M</td>\n",
       "      <td>9</td>\n",
       "      <td>Delhi</td>\n",
       "    </tr>\n",
       "    <tr>\n",
       "      <th>10</th>\n",
       "      <td>47</td>\n",
       "      <td>M</td>\n",
       "      <td>9</td>\n",
       "      <td>Mumbai</td>\n",
       "    </tr>\n",
       "    <tr>\n",
       "      <th>9</th>\n",
       "      <td>27</td>\n",
       "      <td>F</td>\n",
       "      <td>3</td>\n",
       "      <td>Hyderabad</td>\n",
       "    </tr>\n",
       "    <tr>\n",
       "      <th>13</th>\n",
       "      <td>0</td>\n",
       "      <td>F</td>\n",
       "      <td>9</td>\n",
       "      <td>Chennai</td>\n",
       "    </tr>\n",
       "    <tr>\n",
       "      <th>14</th>\n",
       "      <td>35</td>\n",
       "      <td>F</td>\n",
       "      <td>9</td>\n",
       "      <td>Delhi</td>\n",
       "    </tr>\n",
       "    <tr>\n",
       "      <th>17</th>\n",
       "      <td>13</td>\n",
       "      <td>F</td>\n",
       "      <td>9</td>\n",
       "      <td>Hyderabad</td>\n",
       "    </tr>\n",
       "    <tr>\n",
       "      <th>27</th>\n",
       "      <td>37</td>\n",
       "      <td>F</td>\n",
       "      <td>3</td>\n",
       "      <td>Chennai</td>\n",
       "    </tr>\n",
       "  </tbody>\n",
       "</table>\n",
       "</div>"
      ],
      "text/plain": [
       "    Salary Gender  Annual Spend   Location\n",
       "0        8      M             6     Mumbai\n",
       "2       48      M             8     Mumbai\n",
       "3       36      M             9      Delhi\n",
       "6        3      M             9      Delhi\n",
       "10      47      M             9     Mumbai\n",
       "9       27      F             3  Hyderabad\n",
       "13       0      F             9    Chennai\n",
       "14      35      F             9      Delhi\n",
       "17      13      F             9  Hyderabad\n",
       "27      37      F             3    Chennai"
      ]
     },
     "execution_count": 128,
     "metadata": {},
     "output_type": "execute_result"
    }
   ],
   "source": [
    "quota_sample_male = df_population[(df_population[\"Gender\"] == \"M\") & (df_population[\"Salary\"] < 50)].head(5)\n",
    "quota_sample_female = df_population[(df_population[\"Gender\"] == \"F\") & (df_population[\"Salary\"] < 50)].head(5)\n",
    "quota_sample = pd.concat([quota_sample_male, quota_sample_female])\n",
    "quota_sample"
   ]
  }
 ],
 "metadata": {
  "kernelspec": {
   "display_name": "Python 3 (ipykernel)",
   "language": "python",
   "name": "python3"
  },
  "language_info": {
   "codemirror_mode": {
    "name": "ipython",
    "version": 3
   },
   "file_extension": ".py",
   "mimetype": "text/x-python",
   "name": "python",
   "nbconvert_exporter": "python",
   "pygments_lexer": "ipython3",
   "version": "3.12.3"
  }
 },
 "nbformat": 4,
 "nbformat_minor": 5
}
